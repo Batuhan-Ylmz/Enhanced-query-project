{
 "cells": [
  {
   "cell_type": "code",
   "execution_count": 1,
   "id": "96c52dc0",
   "metadata": {},
   "outputs": [
    {
     "name": "stderr",
     "output_type": "stream",
     "text": [
      "[nltk_data] Downloading package punkt to\n",
      "[nltk_data]     C:\\Users\\BatuhanYILMAZ\\AppData\\Roaming\\nltk_data...\n",
      "[nltk_data]   Package punkt is already up-to-date!\n",
      "[nltk_data] Downloading package stopwords to\n",
      "[nltk_data]     C:\\Users\\BatuhanYILMAZ\\AppData\\Roaming\\nltk_data...\n",
      "[nltk_data]   Package stopwords is already up-to-date!\n"
     ]
    }
   ],
   "source": [
    "import re\n",
    "import nltk\n",
    "from nltk.tokenize import word_tokenize, sent_tokenize\n",
    "from sklearn.feature_extraction.text import TfidfTransformer, CountVectorizer\n",
    "from sklearn.metrics.pairwise import cosine_similarity\n",
    "from gensim.models import KeyedVectors\n",
    "from nltk.corpus import stopwords\n",
    "\n",
    "nltk.download('punkt')\n",
    "nltk.download('stopwords')\n",
    "\n",
    "# Load the text file\n",
    "with open('data.txt', 'r', encoding='utf-8') as file:\n",
    "    text = file.read()\n",
    "\n",
    "# Split the text into paragraphs\n",
    "paragraphs = text.split('\\n\\n')  # Assuming paragraphs are separated by double newlines\n",
    "\n",
    "# Preprocess text\n",
    "stop_words = set(stopwords.words('turkish'))\n",
    "\n",
    "def preprocess(text):\n",
    "    text = text.lower()\n",
    "    text = re.sub(r'[^\\w\\s]', '', text)\n",
    "    words = word_tokenize(text)\n",
    "    words = [word for word in words if word not in stop_words]\n",
    "    return words\n",
    "\n",
    "def preprocess_documents(documents):\n",
    "    return [' '.join(preprocess(doc)) for doc in documents]\n",
    "\n",
    "all_processed_docs = preprocess_documents(paragraphs)\n"
   ]
  },
  {
   "cell_type": "code",
   "execution_count": 2,
   "id": "d075a6e6",
   "metadata": {},
   "outputs": [],
   "source": [
    "# Load pre-trained Word2Vec model\n",
    "word_vectors = KeyedVectors.load_word2vec_format('trmodel', binary=True)\n",
    "\n",
    "# Function to expand query using Word2Vec\n",
    "def expand_query(query, top_n=2):\n",
    "    processed_query = preprocess(query)\n",
    "    expanded_query = processed_query.copy()\n",
    "    for word in processed_query:\n",
    "        if word in word_vectors.key_to_index:\n",
    "            similar_words = word_vectors.most_similar(positive=[word], topn=top_n)\n",
    "            expanded_query.extend([word[0] for word in similar_words])\n",
    "    return ' '.join(expanded_query)\n"
   ]
  },
  {
   "cell_type": "code",
   "execution_count": 3,
   "id": "53a174f8",
   "metadata": {},
   "outputs": [],
   "source": [
    "# TF-IDF Vectorizer\n",
    "cv = CountVectorizer()\n",
    "word_count_vector = cv.fit_transform(all_processed_docs)\n",
    "tfidf_transformer = TfidfTransformer(smooth_idf=True, norm='l2', use_idf=True)\n",
    "tfidf_transformer.fit(word_count_vector)\n",
    "tf_idf_vector = tfidf_transformer.transform(word_count_vector)\n",
    "W = tf_idf_vector.toarray()\n"
   ]
  },
  {
   "cell_type": "code",
   "execution_count": 6,
   "id": "ce415b10",
   "metadata": {},
   "outputs": [
    {
     "name": "stdout",
     "output_type": "stream",
     "text": [
      "Expanded query: yapay zeka sağlık suni zekâ zekâ zekanın saglık sağlik\n",
      "\n",
      "Komplocu bunlar 1: Diyelim ki > bir ülkenin sağlık bakanlığı özel bir şirketin geliştirdiği yapay zeka destekli bir sağlık asistanını ve hastanesini akredite olarak tanımış olsun. Bu durumda bu kurum insanlara bir doktor yerine kendi sağlık asistanına tedavi olması gerektiğini ikna etmek için ne gibi değer önerileri sunabilirdi? with similarity score: 0.3665\n",
      "\n",
      "İşte ütopik sağlık şirketimizin asistanına tedavi olmanı için önerilerimiz: 7/24 hızlı müdahale imkanı sağlar. Sürekli olarak en son tıbbi araştırmaları ve bulguları analiz eder, tüm branşların bilgisine sahip olup konsültasyon ihtiyacını ortadan kaldırır. İnsan faktöründen kaynaklanan hata oranını düşürür, büyük veri analizi ve geçmiş vakalardan elde edilen bilgilerle doğru teşhis ve tedavi imkanı sunar. Hastaların geçmiş sağlık verilerini kullanarak kişiselleştirilmiş tedavi planları oluşturur ve maliyetleri düşürerek daha fazla kişiye ulaşılabilir hale getirir. Sağlık personelinin iş yükünü azaltır ve hastaları sürekli olarak bilgilendirir, ayrıca sağlık personeline destek sağlar. Tanı ve tedavi süreçlerini akademik araştırmalara ve akredite kurumların verilerine dayandırarak güvenilir ve bilimsel kararlar sunar. Aynı zamanda ilaç sevmeyenler için tüm ilaç prospektüslerini ve etken maddelerini ezbere bildiğinden alternatif tedavi ve diyet reçeteleri de sunabilir mi dersiniz .. with similarity score: 0.2293\n",
      "\n",
      "Senaryo o ya belki dijital ürün tasarımının yapay zeka ile tasarlandığı, yapay zeka tarafından geliştirilen, içerik pazarlamasına uygun blog yazılı ve görsel içerikleri, onboarding içerikleri, yardım ekranları yine yapay zeka tarafından hazırlanan ironik olsun diye 24 Kasım’da yayınlanacak olan “Yapay Öğretmenim” adlı bir uygulama olacağını düşünelim. Apple Search Ads uzmanı gibi kendi uygulamasının pazarlamasını da nasıl yapması gerektiğini bilen yapay zekamızın bu uygulaması kaç kez indirilir dersiniz? with similarity score: 0.1326\n",
      "\n",
      "Yapay zekanın yargılamaları, insan hatasına daha az yer bırakarak daha adil ve tarafsız olma potansiyeline sahip. İstem dışı empati, kültürel kalıplar ve kişisel yönelimler gibi faktörlerin yargı sürecinden çıkarılmasıyla, daha objektif kararlar alınabilir gibi görünüyor. Bu, gerçekten işe yarayabilir mi? Belki de, yapay zeka sayesinde yargılama süreçleri daha güvenilir hale gelebilir. with similarity score: 0.1085\n",
      "\n",
      "Yapay zeka ayrıca öğretmenlerin iş yükünü azaltabilir. Rutin görevleri, sınav değerlendirmeleri ve hatta bazı öğretim faaliyetlerini otomatikleştirerek, öğretmenlerin daha fazla öğrenciye birebir ilgi göstermesini sağlar. Öğretmenler, yapay zekanın sunduğu veriler ve analizlerle, öğrencilerin gelişimini daha yakından takip edebilir ve onların ihtiyaçlarına daha hızlı yanıt verebilir. with similarity score: 0.1085\n",
      "\n"
     ]
    }
   ],
   "source": [
    "import numpy as np\n",
    "# Function to respond to query\n",
    "def respond(query, n_best=5):\n",
    "    # Expand the query using Word2Vec\n",
    "    expanded_query = expand_query(query)\n",
    "    print(f\"Expanded query: {expanded_query}\\n\")\n",
    "    \n",
    "    # Convert the expanded query to TF-IDF vector\n",
    "    expanded_query_vec = cv.transform([expanded_query])\n",
    "    tf_idf_query = tfidf_transformer.transform(expanded_query_vec)\n",
    "    \n",
    "    # Compute cosine similarity for TF-IDF\n",
    "    tfidf_similarities = cosine_similarity(tf_idf_query, W)\n",
    "    \n",
    "    # Rank documents based on the TF-IDF similarities\n",
    "    sorted_doc_indices = np.argsort(tfidf_similarities[0])[::-1]\n",
    "    \n",
    "    # Print the sorted documents and their similarity scores\n",
    "    for idx in sorted_doc_indices[:n_best]:\n",
    "        print(f\"{paragraphs[idx]} with similarity score: {tfidf_similarities[0][idx]:.4f}\\n\")\n",
    "\n",
    "\n",
    "query = 'yapay zeka ve sağlık'\n",
    "respond(query)\n"
   ]
  },
  {
   "cell_type": "code",
   "execution_count": 7,
   "id": "9cc93b50",
   "metadata": {},
   "outputs": [
    {
     "name": "stdout",
     "output_type": "stream",
     "text": [
      "Expanded query: risk altındaki meslekler riskler riskleri altında altındadır meslekleri rasyolar\n",
      "\n",
      "Yapay zeka, hayatımıza girdiği günden beri özellikle kendi sektörümde bazı meslek gruplarının yaptığı işleri büyük oranda yapabildiğini izliyorum. Visual designer, concept artist, game artist, illustrator, copywriter, UX designer, UI designer ve daha niceleri…Yapay zekanın neleri değiştirebileceğini ve hangi meslekleri nasıl tehdit ettiğini evdeki koltuğunuzda sorgulamaya hazırsanız başlayalım… with similarity score: 0.1484\n",
      "\n",
      "Yapay zekanın yargılamaları, insan hatasına daha az yer bırakarak daha adil ve tarafsız olma potansiyeline sahip. İstem dışı empati, kültürel kalıplar ve kişisel yönelimler gibi faktörlerin yargı sürecinden çıkarılmasıyla, daha objektif kararlar alınabilir gibi görünüyor. Bu, gerçekten işe yarayabilir mi? Belki de, yapay zeka sayesinde yargılama süreçleri daha güvenilir hale gelebilir. with similarity score: 0.0000\n",
      "\n",
      "Hiçbir şey olmaz mı dersiniz ?\n",
      "Bugün yeni GPT-4o’ya sesli olarak bana logaritma öğretmesini söyledim. Bana öğrenci kulislerindeki anlamlı soru ile yani logaritmanın güncel hayatta ne işimize yarayacağını anlatarak başladı. Benim bilgiyi edinmek istememdeki temel amacımı öğrendi ve log 2 (8)’in aslında ikinin kaç üstü 8'e eşit olması gerektiğini örneği ile temel mantığı basitçe anlattı. Benim amacımın bir sınava girmek olduğunu öğrenince bu sınav ile alakalı tüm (ÖSYM) veritabanını tarayıp çıkabilir soru tarzlarını analiz etti. Bilginin ne kadarını öğrenerek bu sınavlarda büyük oranda başarılı olabileceğimi düşünerek bana buna uygun örnek sorular hazırladı. with similarity score: 0.0000\n",
      "\n",
      "Senaryo o ya belki dijital ürün tasarımının yapay zeka ile tasarlandığı, yapay zeka tarafından geliştirilen, içerik pazarlamasına uygun blog yazılı ve görsel içerikleri, onboarding içerikleri, yardım ekranları yine yapay zeka tarafından hazırlanan ironik olsun diye 24 Kasım’da yayınlanacak olan “Yapay Öğretmenim” adlı bir uygulama olacağını düşünelim. Apple Search Ads uzmanı gibi kendi uygulamasının pazarlamasını da nasıl yapması gerektiğini bilen yapay zekamızın bu uygulaması kaç kez indirilir dersiniz? with similarity score: 0.0000\n",
      "\n",
      "Daha uç bir örnek için; Genel cerrah bir arkadaşımla bir apandisit hastasının teşhisi konusunda yaptığımız deneyde, yapay zekanın doktorun gözden kaçırabileceği birçok noktayı atlamayan uzman bir yaklaşım sunduğunu gördük. Önce hastanın şikayetlerini ve temel bilgilerini yapay zekaya ilettik. Yapay zeka, adım adım ihtimalleri elemek için sorular sordu. Örneğin, 24 yaşındaki kadın hastanın adet sancısı ya da yerleşme sancısı çekebileceği ihtimalini değerlendirdi. Daha sonra fiziki muayene için hastaya neler yapması gerektiğini söyledi. Hasta sonucu paylaştı ve yapay zeka %70 oranında apandisitten şüphelendiğini, bunu hangi akademik araştırma ve akredite kurumların verilerine dayandırdığını açıkladı. İhtimali yükseltmek için hangi tetkiklerin yapılması gerektiğini ve bu tetkiklerden gelen sonuçlara göre teşhis sürecini nasıl derinleştirebileceğini belirtti. Korktuk mu? with similarity score: 0.0000\n",
      "\n"
     ]
    }
   ],
   "source": [
    "query = 'risk altındaki meslekler'\n",
    "respond(query)"
   ]
  },
  {
   "cell_type": "code",
   "execution_count": 8,
   "id": "c2c4d175",
   "metadata": {},
   "outputs": [
    {
     "name": "stdout",
     "output_type": "stream",
     "text": [
      "Expanded query: riskli meslek masraflı zahmetli mesleki hemşirelik\n",
      "\n",
      "Yapay zeka, hayatımıza girdiği günden beri özellikle kendi sektörümde bazı meslek gruplarının yaptığı işleri büyük oranda yapabildiğini izliyorum. Visual designer, concept artist, game artist, illustrator, copywriter, UX designer, UI designer ve daha niceleri…Yapay zekanın neleri değiştirebileceğini ve hangi meslekleri nasıl tehdit ettiğini evdeki koltuğunuzda sorgulamaya hazırsanız başlayalım… with similarity score: 0.1484\n",
      "\n",
      "Yapay zekanın yargılamaları, insan hatasına daha az yer bırakarak daha adil ve tarafsız olma potansiyeline sahip. İstem dışı empati, kültürel kalıplar ve kişisel yönelimler gibi faktörlerin yargı sürecinden çıkarılmasıyla, daha objektif kararlar alınabilir gibi görünüyor. Bu, gerçekten işe yarayabilir mi? Belki de, yapay zeka sayesinde yargılama süreçleri daha güvenilir hale gelebilir. with similarity score: 0.0000\n",
      "\n",
      "Hiçbir şey olmaz mı dersiniz ?\n",
      "Bugün yeni GPT-4o’ya sesli olarak bana logaritma öğretmesini söyledim. Bana öğrenci kulislerindeki anlamlı soru ile yani logaritmanın güncel hayatta ne işimize yarayacağını anlatarak başladı. Benim bilgiyi edinmek istememdeki temel amacımı öğrendi ve log 2 (8)’in aslında ikinin kaç üstü 8'e eşit olması gerektiğini örneği ile temel mantığı basitçe anlattı. Benim amacımın bir sınava girmek olduğunu öğrenince bu sınav ile alakalı tüm (ÖSYM) veritabanını tarayıp çıkabilir soru tarzlarını analiz etti. Bilginin ne kadarını öğrenerek bu sınavlarda büyük oranda başarılı olabileceğimi düşünerek bana buna uygun örnek sorular hazırladı. with similarity score: 0.0000\n",
      "\n",
      "Senaryo o ya belki dijital ürün tasarımının yapay zeka ile tasarlandığı, yapay zeka tarafından geliştirilen, içerik pazarlamasına uygun blog yazılı ve görsel içerikleri, onboarding içerikleri, yardım ekranları yine yapay zeka tarafından hazırlanan ironik olsun diye 24 Kasım’da yayınlanacak olan “Yapay Öğretmenim” adlı bir uygulama olacağını düşünelim. Apple Search Ads uzmanı gibi kendi uygulamasının pazarlamasını da nasıl yapması gerektiğini bilen yapay zekamızın bu uygulaması kaç kez indirilir dersiniz? with similarity score: 0.0000\n",
      "\n",
      "Daha uç bir örnek için; Genel cerrah bir arkadaşımla bir apandisit hastasının teşhisi konusunda yaptığımız deneyde, yapay zekanın doktorun gözden kaçırabileceği birçok noktayı atlamayan uzman bir yaklaşım sunduğunu gördük. Önce hastanın şikayetlerini ve temel bilgilerini yapay zekaya ilettik. Yapay zeka, adım adım ihtimalleri elemek için sorular sordu. Örneğin, 24 yaşındaki kadın hastanın adet sancısı ya da yerleşme sancısı çekebileceği ihtimalini değerlendirdi. Daha sonra fiziki muayene için hastaya neler yapması gerektiğini söyledi. Hasta sonucu paylaştı ve yapay zeka %70 oranında apandisitten şüphelendiğini, bunu hangi akademik araştırma ve akredite kurumların verilerine dayandırdığını açıkladı. İhtimali yükseltmek için hangi tetkiklerin yapılması gerektiğini ve bu tetkiklerden gelen sonuçlara göre teşhis sürecini nasıl derinleştirebileceğini belirtti. Korktuk mu? with similarity score: 0.0000\n",
      "\n"
     ]
    }
   ],
   "source": [
    "query = 'riskli meslek'\n",
    "respond(query)"
   ]
  },
  {
   "cell_type": "code",
   "execution_count": null,
   "id": "6e0cdbb2",
   "metadata": {},
   "outputs": [],
   "source": []
  }
 ],
 "metadata": {
  "kernelspec": {
   "display_name": "Python 3 (ipykernel)",
   "language": "python",
   "name": "python3"
  },
  "language_info": {
   "codemirror_mode": {
    "name": "ipython",
    "version": 3
   },
   "file_extension": ".py",
   "mimetype": "text/x-python",
   "name": "python",
   "nbconvert_exporter": "python",
   "pygments_lexer": "ipython3",
   "version": "3.11.5"
  }
 },
 "nbformat": 4,
 "nbformat_minor": 5
}
