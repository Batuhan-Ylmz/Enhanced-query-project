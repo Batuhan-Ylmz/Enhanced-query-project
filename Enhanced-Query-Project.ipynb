{
 "cells": [
  {
   "cell_type": "code",
   "execution_count": 86,
   "id": "96c52dc0",
   "metadata": {},
   "outputs": [],
   "source": [
    "import re\n",
    "import nltk\n",
    "from nltk.tokenize import word_tokenize, sent_tokenize\n",
    "from sklearn.feature_extraction.text import TfidfTransformer, CountVectorizer\n",
    "from sklearn.metrics.pairwise import cosine_similarity\n",
    "from transformers import BertTokenizer, BertModel\n",
    "import torch\n",
    "import numpy as np\n",
    "from gensim.models import KeyedVectors\n",
    "from nltk.corpus import stopwords\n",
    "\n",
    "# Load the text file\n",
    "with open('data.txt', 'r', encoding='utf-8') as file:\n",
    "    text = file.read()"
   ]
  },
  {
   "cell_type": "code",
   "execution_count": 90,
   "id": "4ae455ee",
   "metadata": {
    "scrolled": false
   },
   "outputs": [
    {
     "data": {
      "text/plain": [
       "\"Yapay zeka, hayatımıza girdiği günden beri özellikle kendi sektörümde bazı meslek gruplarının yaptığı işleri büyük oranda yapabildiğini izliyorum. Visual designer, concept artist, game artist, illustrator, copywriter, UX designer, UI designer ve daha niceleri…Yapay zekanın neleri değiştirebileceğini ve hangi meslekleri nasıl tehdit ettiğini evdeki koltuğunuzda sorgulamaya hazırsanız başlayalım…\\n\\nHiçbir şey olmaz mı dersiniz ?\\nBugün yeni GPT-4o’ya sesli olarak bana logaritma öğretmesini söyledim. Bana öğrenci kulislerindeki anlamlı soru ile yani logaritmanın güncel hayatta ne işimize yarayacağını anlatarak başladı. Benim bilgiyi edinmek istememdeki temel amacımı öğrendi ve log 2 (8)’in aslında ikinin kaç üstü 8'e eşit olması gerektiğini örneği ile temel mantığı basitçe anlattı. Benim amacımın bir sınava girmek olduğunu öğrenince bu sınav ile alakalı tüm (ÖSYM) veritabanını tarayıp çıkabilir soru tarzlarını analiz etti. Bilginin ne kadarını öğrenerek bu sınavlarda büyük oranda başarılı olabileceğimi düşünerek bana buna uygun örnek sorular hazırladı.\\n\\nSenaryo o ya belki dijital ürün tasarımının yapay zeka ile tasarlandığı, yapay zeka tarafından geliştirilen, içerik pazarlamasına uygun blog yazılı ve görsel içerikleri, onboarding içerikleri, yardım ekranları yine yapay zeka tarafından hazırlanan ironik olsun diye 24 Kasım’da yayınlanacak olan “Yapay Öğretmenim” adlı bir uygulama olacağını düşünelim. Apple Search Ads uzmanı gibi kendi uygulamasının pazarlamasını da nasıl yapması gerektiğini bilen yapay zekamızın bu uygulaması kaç kez indirilir dersiniz?\\n\\nDaha uç bir örnek için; Genel cerrah bir arkadaşımla bir apandisit hastasının teşhisi konusunda yaptığımız deneyde, yapay zekanın doktorun gözden kaçırabileceği birçok noktayı atlamayan uzman bir yaklaşım sunduğunu gördük. Önce hastanın şikayetlerini ve temel bilgilerini yapay zekaya ilettik. Yapay zeka, adım adım ihtimalleri elemek için sorular sordu. Örneğin, 24 yaşındaki kadın hastanın adet sancısı ya da yerleşme sancısı çekebileceği ihtimalini değerlendirdi. Daha sonra fiziki muayene için hastaya neler yapması gerektiğini söyledi. Hasta sonucu paylaştı ve yapay zeka %70 oranında apandisitten şüphelendiğini, bunu hangi akademik araştırma ve akredite kurumların verilerine dayandırdığını açıkladı. İhtimali yükseltmek için hangi tetkiklerin yapılması gerektiğini ve bu tetkiklerden gelen sonuçlara göre teşhis sürecini nasıl derinleştirebileceğini belirtti. Korktuk mu?\\n\\nKomplocu bunlar 1: Diyelim ki > bir ülkenin sağlık bakanlığı özel bir şirketin geliştirdiği yapay zeka destekli bir sağlık asistanını ve hastanesini akredite olarak tanımış olsun. Bu durumda bu kurum insanlara bir doktor yerine kendi sağlık asistanına tedavi olması gerektiğini ikna etmek için ne gibi değer önerileri sunabilirdi?\\n\\nİşte ütopik sağlık şirketimizin asistanına tedavi olmanı için önerilerimiz: 7/24 hızlı müdahale imkanı sağlar. Sürekli olarak en son tıbbi araştırmaları ve bulguları analiz eder, tüm branşların bilgisine sahip olup konsültasyon ihtiyacını ortadan kaldırır. İnsan faktöründen kaynaklanan hata oranını düşürür, büyük veri analizi ve geçmiş vakalardan elde edilen bilgilerle doğru teşhis ve tedavi imkanı sunar. Hastaların geçmiş sağlık verilerini kullanarak kişiselleştirilmiş tedavi planları oluşturur ve maliyetleri düşürerek daha fazla kişiye ulaşılabilir hale getirir. Sağlık personelinin iş yükünü azaltır ve hastaları sürekli olarak bilgilendirir, ayrıca sağlık personeline destek sağlar. Tanı ve tedavi süreçlerini akademik araştırmalara ve akredite kurumların verilerine dayandırarak güvenilir ve bilimsel kararlar sunar. Aynı zamanda ilaç sevmeyenler için tüm ilaç prospektüslerini ve etken maddelerini ezbere bildiğinden alternatif tedavi ve diyet reçeteleri de sunabilir mi dersiniz ..\\n\\nSanki ikna olmuş mu gibisiniz? Komplocu bunlar 2: Kanayan yaramız; Adalet Sistemine yapay zeka entegresi güzellemeleri; Sabah akşam mecliste tartışılan anayasa değişikliği oturumlarından anlıyoruz ki değişimine çok ta karşı çıkamayacağımız alanlardan biri adalet sistemi gibi geliyor.. Türkiye’de her yıl ortalama olarak 7 milyon dava açılıyor hakim başına 671 dava düşüyor ve sistemin yavaşlığı mağduriyetleri büyütüyor. Bu bağlamda yapay zekanın yargılama süreçlerine entegre edilmesiyle, süreçlerin hızlanabileceğini ve büyük bir zaman tasarrufu sağlanabileceğini hayal edebiliriz.\\n\\nYapay zekanın yargılamaları, insan hatasına daha az yer bırakarak daha adil ve tarafsız olma potansiyeline sahip. İstem dışı empati, kültürel kalıplar ve kişisel yönelimler gibi faktörlerin yargı sürecinden çıkarılmasıyla, daha objektif kararlar alınabilir gibi görünüyor. Bu, gerçekten işe yarayabilir mi? Belki de, yapay zeka sayesinde yargılama süreçleri daha güvenilir hale gelebilir.\\n\\nYapay zeka, benzer dava dosyalarını, izinli online kayıtları, savunma veya savcılık mercileri henüz iletmeden tarayabilir, gruplayabilir ve anlamlandırabilir. Bu sayede sürece bilirkişi dahil olmasına gerek kalmayabilir. Özellikle bilişim suçları gibi uzmanlık gerektiren alanlarda yapay zeka, çok daha güncel ve detaylı yorumlar yapabilir. Üst mahkeme olarak konumlandırıldığında, tahkikat ve istinaf gibi süreçler hızlandırılabilir. Anayasal sistemleri karşılaştığı olaylar ve bunun toplumda bulduğu karşılığı tarayıp yasanın güncellenmesi yönünde fikir önerisi getirebilir.\\n\\nBöyle bir tercih karşımıza geldiğinde, daha tarafsız ve güvenilir bir yargılama için bunu istemek bizim için de mantıklı olabilir. Yapay zeka, sadece mevcut verileri analiz etmekle kalmaz, aynı zamanda geçmiş davalardan elde edilen bilgileri de kullanarak benzer durumlarda daha tutarlı kararlar verir. Bu da adalet sisteminin genel etkinliğini ve güvenilirliğini artırır.\\n\\nLogaritma komplocuları buna cevap versin! Zekası yapay eğitim olur mu? Ben ilkokuldayken maddenin en küçük yapı taşı, mezun olana kadar dört kez yeni ışımaya maruz kalıp değişti. Yani bilgi değişti ve bana ilk yıllarda öğretilen bilgi bugün için hatalıydı. Zaten günümüzde teori dışında verilen akademik bilgi hiç olmadığı kadar hızlı değişebilir gibi duruyor. O halde tıp eğitimi teorik ve temel eğitim ile 1 yıla düşürülebilir mi? Temel teorik bilgi + yapay zeka yeni bir doktor türünü karşımıza çıkartabilir mi?\\n\\nYapay zeka destekli eğitim, kişiselleştirilmiş öğrenme deneyimlerini mümkün kılar. Her öğrencinin öğrenme hızı, ilgi alanları ve ihtiyaçlarına göre özel olarak tasarlanmış eğitim programları oluşturulabilir. Yapay zeka, öğrencilerin güçlü ve zayıf yönlerini belirleyerek, eksik oldukları konularda onlara özel dersler ve kaynaklar sunabilir.\\n\\nYapay zeka ayrıca öğretmenlerin iş yükünü azaltabilir. Rutin görevleri, sınav değerlendirmeleri ve hatta bazı öğretim faaliyetlerini otomatikleştirerek, öğretmenlerin daha fazla öğrenciye birebir ilgi göstermesini sağlar. Öğretmenler, yapay zekanın sunduğu veriler ve analizlerle, öğrencilerin gelişimini daha yakından takip edebilir ve onların ihtiyaçlarına daha hızlı yanıt verebilir.\\n\\nBunların yanı sıra, yapay zeka destekli öğrenme platformları, dünyanın her yerinden öğrencilerin erişimine açık olabilir. Bu, eğitimde fırsat eşitliğini artırır ve bilgiye erişim konusunda coğrafi engelleri ortadan kaldırır. Özellikle dezavantajlı bölgelerdeki öğrenciler için büyük bir fırsat olabilir.\\n\\nEğitimde yapay zekanın kullanımı, aynı zamanda müfredatın sürekli güncellenmesini de sağlar. Yeni bilgiler ve buluşlar, anında eğitim materyallerine entegre edilebilir. Öğrenciler, en güncel ve doğru bilgilere erişerek, geleceğe daha iyi hazırlanabilirler.\\n\\nSonuç olarak, yapay zekanın eğitim sistemine entegrasyonu, hem öğrenciler hem de öğretmenler için büyük faydalar sağlayabilir. Eğitimde kaliteyi artırırken, bireysel öğrenme deneyimlerini zenginleştirir ve eğitimde fırsat eşitliğini destekler. Bu değişim, geleceğin eğitim sisteminin temellerini atmak için büyük bir adım olabilir.\\n\\nBöyle anlatınca güzel de bize liste lazım hocam biz tehlikede miyiz? Yapay abimiz en gelişmiş haliyle özel sektörün kullanımı için servis haline geldiğinde (ki bu bir oranda var) hangi mesleklerin işini büyük oranda yapabilir bir bakalım: Müşteri Hizmetleri Temsilcisi, İçerik Yazarı ve Editör, Pazarlama Uzmanı, Veri Analisti, Eğitim ve Öğretim Uzmanı, Tercüman, Araştırma Asistanı, İK Uzmanı, Teknik Destek Uzmanı, Hukuk Asistanı, Sosyal Medya Yöneticisi, SEO Uzmanı, Dijital Pazarlama Uzmanı, Satış Temsilcisi, Proje Yöneticisi, İş Analisti, Grafik Tasarımcı, Web Tasarımcısı, UX/UI Tasarımcısı, Finans Analisti, Muhasebeci, Veri Bilimci, Ürün Yöneticisi, Teknik Yazar, Danışman, Medya Planlayıcısı, Pazar Araştırmacısı, Eğitim Danışmanı, Reklam Metin Yazarı ve Halkla İlişkiler Uzmanı.\""
      ]
     },
     "execution_count": 90,
     "metadata": {},
     "output_type": "execute_result"
    }
   ],
   "source": [
    "text"
   ]
  },
  {
   "cell_type": "code",
   "execution_count": 91,
   "id": "e3bce3db",
   "metadata": {},
   "outputs": [
    {
     "name": "stderr",
     "output_type": "stream",
     "text": [
      "[nltk_data] Downloading package punkt to\n",
      "[nltk_data]     C:\\Users\\BatuhanYILMAZ\\AppData\\Roaming\\nltk_data...\n",
      "[nltk_data]   Package punkt is already up-to-date!\n",
      "[nltk_data] Downloading package stopwords to\n",
      "[nltk_data]     C:\\Users\\BatuhanYILMAZ\\AppData\\Roaming\\nltk_data...\n",
      "[nltk_data]   Package stopwords is already up-to-date!\n"
     ]
    }
   ],
   "source": [
    "nltk.download('punkt')\n",
    "nltk.download('stopwords')\n",
    "\n",
    "# Split the text into paragraphs\n",
    "paragraphs = text.split('\\n\\n')\n",
    "\n",
    "# Preprocess text\n",
    "stop_words = set(stopwords.words('turkish'))\n",
    "\n",
    "def preprocess(text):\n",
    "    text = text.lower()\n",
    "    text = re.sub(r'[^\\w\\s]', '', text)\n",
    "    words = word_tokenize(text)\n",
    "    words = [word for word in words if word not in stop_words]\n",
    "    return words\n",
    "\n",
    "def preprocess_documents(documents):\n",
    "    return [' '.join(preprocess(doc)) for doc in documents]\n",
    "\n",
    "all_processed_docs = preprocess_documents(paragraphs)"
   ]
  },
  {
   "cell_type": "code",
   "execution_count": 92,
   "id": "20030083",
   "metadata": {
    "scrolled": false
   },
   "outputs": [
    {
     "data": {
      "text/plain": [
       "['yapay zeka hayatımıza girdiği günden beri özellikle kendi sektörümde meslek gruplarının yaptığı işleri büyük oranda yapabildiğini izliyorum visual designer concept artist game artist illustrator copywriter ux designer ui designer niceleriyapay zekanın neleri değiştirebileceğini hangi meslekleri tehdit ettiğini evdeki koltuğunuzda sorgulamaya hazırsanız başlayalım',\n",
       " 'hiçbir olmaz dersiniz bugün yeni gpt4oya sesli olarak bana logaritma öğretmesini söyledim bana öğrenci kulislerindeki anlamlı soru logaritmanın güncel hayatta işimize yarayacağını anlatarak başladı benim bilgiyi edinmek istememdeki temel amacımı öğrendi log 2 8in ikinin kaç üstü 8e eşit olması gerektiğini örneği temel mantığı basitçe anlattı benim amacımın bir sınava girmek olduğunu öğrenince sınav alakalı ösym veritabanını tarayıp çıkabilir soru tarzlarını analiz etti bilginin kadarını öğrenerek sınavlarda büyük oranda başarılı olabileceğimi düşünerek bana buna uygun örnek sorular hazırladı',\n",
       " 'senaryo dijital ürün tasarımının yapay zeka tasarlandığı yapay zeka tarafından geliştirilen içerik pazarlamasına uygun blog yazılı görsel içerikleri onboarding içerikleri yardım ekranları yine yapay zeka tarafından hazırlanan ironik olsun 24 kasımda yayınlanacak olan yapay öğretmenim adlı bir uygulama olacağını düşünelim apple search ads uzmanı kendi uygulamasının pazarlamasını yapması gerektiğini bilen yapay zekamızın uygulaması kaç indirilir dersiniz',\n",
       " 'uç bir örnek genel cerrah bir arkadaşımla bir apandisit hastasının teşhisi konusunda yaptığımız deneyde yapay zekanın doktorun gözden kaçırabileceği birçok noktayı atlamayan uzman bir yaklaşım sunduğunu gördük önce hastanın şikayetlerini temel bilgilerini yapay zekaya ilettik yapay zeka adım adım ihtimalleri elemek sorular sordu örneğin 24 yaşındaki kadın hastanın adet sancısı yerleşme sancısı çekebileceği ihtimalini değerlendirdi sonra fiziki muayene hastaya neler yapması gerektiğini söyledi hasta sonucu paylaştı yapay zeka 70 oranında apandisitten şüphelendiğini bunu hangi akademik araştırma akredite kurumların verilerine dayandırdığını açıkladı ihtimali yükseltmek hangi tetkiklerin yapılması gerektiğini tetkiklerden gelen sonuçlara göre teşhis sürecini derinleştirebileceğini belirtti korktuk',\n",
       " 'komplocu bunlar 1 diyelim bir ülkenin sağlık bakanlığı özel bir şirketin geliştirdiği yapay zeka destekli bir sağlık asistanını hastanesini akredite olarak tanımış olsun durumda kurum insanlara bir doktor yerine kendi sağlık asistanına tedavi olması gerektiğini ikna etmek değer önerileri sunabilirdi',\n",
       " 'işte ütopik sağlık şirketimizin asistanına tedavi olmanı önerilerimiz 724 hızlı müdahale imkanı sağlar sürekli olarak son tıbbi araştırmaları bulguları analiz eder branşların bilgisine sahip olup konsültasyon ihtiyacını ortadan kaldırır insan faktöründen kaynaklanan hata oranını düşürür büyük veri analizi geçmiş vakalardan elde edilen bilgilerle doğru teşhis tedavi imkanı sunar hastaların geçmiş sağlık verilerini kullanarak kişiselleştirilmiş tedavi planları oluşturur maliyetleri düşürerek fazla kişiye ulaşılabilir hale getirir sağlık personelinin iş yükünü azaltır hastaları sürekli olarak bilgilendirir ayrıca sağlık personeline destek sağlar tanı tedavi süreçlerini akademik araştırmalara akredite kurumların verilerine dayandırarak güvenilir bilimsel kararlar sunar aynı zamanda ilaç sevmeyenler ilaç prospektüslerini etken maddelerini ezbere bildiğinden alternatif tedavi diyet reçeteleri sunabilir mi dersiniz',\n",
       " 'ikna olmuş gibisiniz komplocu bunlar 2 kanayan yaramız adalet sistemine yapay zeka entegresi güzellemeleri sabah akşam mecliste tartışılan anayasa değişikliği oturumlarından anlıyoruz değişimine ta karşı çıkamayacağımız alanlardan adalet sistemi geliyor türkiyede yıl ortalama olarak 7 milyon dava açılıyor hakim başına 671 dava düşüyor sistemin yavaşlığı mağduriyetleri büyütüyor bağlamda yapay zekanın yargılama süreçlerine entegre edilmesiyle süreçlerin hızlanabileceğini büyük bir zaman tasarrufu sağlanabileceğini hayal edebiliriz',\n",
       " 'yapay zekanın yargılamaları insan hatasına yer bırakarak adil tarafsız olma potansiyeline sahip istem dışı empati kültürel kalıplar kişisel yönelimler faktörlerin yargı sürecinden çıkarılmasıyla objektif kararlar alınabilir görünüyor gerçekten işe yarayabilir mi yapay zeka sayesinde yargılama süreçleri güvenilir hale gelebilir',\n",
       " 'yapay zeka benzer dava dosyalarını izinli online kayıtları savunma savcılık mercileri henüz iletmeden tarayabilir gruplayabilir anlamlandırabilir sayede sürece bilirkişi dahil olmasına gerek kalmayabilir özellikle bilişim suçları uzmanlık gerektiren alanlarda yapay zeka güncel detaylı yorumlar yapabilir üst mahkeme olarak konumlandırıldığında tahkikat istinaf süreçler hızlandırılabilir anayasal sistemleri karşılaştığı olaylar bunun toplumda bulduğu karşılığı tarayıp yasanın güncellenmesi yönünde fikir önerisi getirebilir',\n",
       " 'böyle bir tercih karşımıza geldiğinde tarafsız güvenilir bir yargılama bunu istemek bizim mantıklı olabilir yapay zeka sadece mevcut verileri analiz etmekle kalmaz aynı zamanda geçmiş davalardan elde edilen bilgileri kullanarak benzer durumlarda tutarlı kararlar verir adalet sisteminin genel etkinliğini güvenilirliğini artırır',\n",
       " 'logaritma komplocuları buna cevap versin zekası yapay eğitim olur ben ilkokuldayken maddenin küçük yapı taşı mezun olana kadar dört yeni ışımaya maruz kalıp değişti bilgi değişti bana ilk yıllarda öğretilen bilgi bugün hatalıydı zaten günümüzde teori dışında verilen akademik bilgi olmadığı kadar hızlı değişebilir duruyor halde tıp eğitimi teorik temel eğitim 1 yıla düşürülebilir mi temel teorik bilgi yapay zeka yeni bir doktor türünü karşımıza çıkartabilir mi',\n",
       " 'yapay zeka destekli eğitim kişiselleştirilmiş öğrenme deneyimlerini mümkün kılar öğrencinin öğrenme hızı ilgi alanları ihtiyaçlarına göre özel olarak tasarlanmış eğitim programları oluşturulabilir yapay zeka öğrencilerin güçlü zayıf yönlerini belirleyerek eksik oldukları konularda onlara özel dersler kaynaklar sunabilir',\n",
       " 'yapay zeka ayrıca öğretmenlerin iş yükünü azaltabilir rutin görevleri sınav değerlendirmeleri hatta öğretim faaliyetlerini otomatikleştirerek öğretmenlerin fazla öğrenciye birebir ilgi göstermesini sağlar öğretmenler yapay zekanın sunduğu veriler analizlerle öğrencilerin gelişimini yakından takip edebilir onların ihtiyaçlarına hızlı yanıt verebilir',\n",
       " 'bunların yanı sıra yapay zeka destekli öğrenme platformları dünyanın yerinden öğrencilerin erişimine açık olabilir eğitimde fırsat eşitliğini artırır bilgiye erişim konusunda coğrafi engelleri ortadan kaldırır özellikle dezavantajlı bölgelerdeki öğrenciler büyük bir fırsat olabilir',\n",
       " 'eğitimde yapay zekanın kullanımı aynı zamanda müfredatın sürekli güncellenmesini sağlar yeni bilgiler buluşlar anında eğitim materyallerine entegre edilebilir öğrenciler güncel doğru bilgilere erişerek geleceğe iyi hazırlanabilirler',\n",
       " 'sonuç olarak yapay zekanın eğitim sistemine entegrasyonu öğrenciler öğretmenler büyük faydalar sağlayabilir eğitimde kaliteyi artırırken bireysel öğrenme deneyimlerini zenginleştirir eğitimde fırsat eşitliğini destekler değişim geleceğin eğitim sisteminin temellerini atmak büyük bir adım olabilir',\n",
       " 'böyle anlatınca güzel bize liste lazım hocam tehlikede miyiz yapay abimiz gelişmiş haliyle özel sektörün kullanımı servis haline geldiğinde bir oranda var hangi mesleklerin işini büyük oranda yapabilir bir bakalım müşteri hizmetleri temsilcisi içerik yazarı editör pazarlama uzmanı veri analisti eğitim öğretim uzmanı tercüman araştırma asistanı ik uzmanı teknik destek uzmanı hukuk asistanı sosyal medya yöneticisi seo uzmanı dijital pazarlama uzmanı satış temsilcisi proje yöneticisi iş analisti grafik tasarımcı web tasarımcısı uxui tasarımcısı finans analisti muhasebeci veri bilimci ürün yöneticisi teknik yazar danışman medya planlayıcısı pazar araştırmacısı eğitim danışmanı reklam metin yazarı halkla ilişkiler uzmanı']"
      ]
     },
     "execution_count": 92,
     "metadata": {},
     "output_type": "execute_result"
    }
   ],
   "source": [
    "all_processed_docs"
   ]
  },
  {
   "cell_type": "code",
   "execution_count": 96,
   "id": "80f7e89b",
   "metadata": {},
   "outputs": [
    {
     "data": {
      "text/plain": [
       "array([[0.        , 0.        , 0.        , ..., 0.        , 0.        ,\n",
       "        0.        ],\n",
       "       [0.        , 0.        , 0.        , ..., 0.        , 0.        ,\n",
       "        0.        ],\n",
       "       [0.12060472, 0.        , 0.        , ..., 0.        , 0.        ,\n",
       "        0.        ],\n",
       "       ...,\n",
       "       [0.        , 0.        , 0.        , ..., 0.        , 0.        ,\n",
       "        0.        ],\n",
       "       [0.        , 0.        , 0.        , ..., 0.        , 0.        ,\n",
       "        0.        ],\n",
       "       [0.        , 0.        , 0.        , ..., 0.        , 0.        ,\n",
       "        0.        ]])"
      ]
     },
     "execution_count": 96,
     "metadata": {},
     "output_type": "execute_result"
    }
   ],
   "source": [
    "# TF-IDF Vectorizer\n",
    "cv = CountVectorizer()\n",
    "word_count_vector = cv.fit_transform(all_processed_docs)\n",
    "tfidf_transformer = TfidfTransformer(smooth_idf=True, norm='l2', use_idf=True)\n",
    "tfidf_transformer.fit(word_count_vector)\n",
    "tf_idf_vector = tfidf_transformer.transform(word_count_vector)\n",
    "W = tf_idf_vector.toarray()\n",
    "W"
   ]
  },
  {
   "cell_type": "code",
   "execution_count": 105,
   "id": "19415981",
   "metadata": {},
   "outputs": [],
   "source": [
    "# Load pre-trained Word2Vec model\n",
    "word_vectors = KeyedVectors.load_word2vec_format('trmodel', binary=True)"
   ]
  },
  {
   "cell_type": "code",
   "execution_count": 106,
   "id": "61f7abd7",
   "metadata": {},
   "outputs": [
    {
     "data": {
      "text/plain": [
       "[('kraliçe', 0.508816123008728),\n",
       " ('kralı', 0.4718089699745178),\n",
       " ('kralın', 0.44512391090393066),\n",
       " ('kraliçesi', 0.4190150201320648),\n",
       " ('prenses', 0.4071306586265564),\n",
       " ('hükümdar', 0.4056030511856079),\n",
       " ('prens', 0.3978961408138275),\n",
       " ('kraliçenin', 0.39632880687713623),\n",
       " ('veliaht', 0.38219931721687317),\n",
       " ('tahtı', 0.3773398697376251)]"
      ]
     },
     "execution_count": 106,
     "metadata": {},
     "output_type": "execute_result"
    }
   ],
   "source": [
    "word_vectors.most_similar(positive=[\"kral\",\"kadın\"],negative=[\"erkek\"])"
   ]
  },
  {
   "cell_type": "code",
   "execution_count": 107,
   "id": "881e39f2",
   "metadata": {},
   "outputs": [],
   "source": [
    "# Function to expand query using Word2Vec\n",
    "def expand_query(query, top_n=2):\n",
    "    processed_query = preprocess(query)\n",
    "    expanded_query = processed_query.copy()\n",
    "    for word in processed_query:\n",
    "        if word in word_vectors.key_to_index:\n",
    "            similar_words = word_vectors.most_similar(positive=[word], topn=top_n)\n",
    "            expanded_query.extend([word[0] for word in similar_words])\n",
    "    return ' '.join(expanded_query)"
   ]
  },
  {
   "cell_type": "code",
   "execution_count": 108,
   "id": "fa02856c",
   "metadata": {},
   "outputs": [
    {
     "data": {
      "text/plain": [
       "'hayat ölüm yaşam yaşantı ölümün öldürülme'"
      ]
     },
     "execution_count": 108,
     "metadata": {},
     "output_type": "execute_result"
    }
   ],
   "source": [
    "# Check expand_query function\n",
    "test_data = \"hayat ve ölüm\"\n",
    "expand_query(test_data)"
   ]
  },
  {
   "cell_type": "code",
   "execution_count": 109,
   "id": "bac1d629",
   "metadata": {},
   "outputs": [],
   "source": [
    "# Load pre-trained BERTurk tokenizer and model\n",
    "tokenizer = BertTokenizer.from_pretrained(\"dbmdz/bert-base-turkish-cased\")\n",
    "model = BertModel.from_pretrained(\"dbmdz/bert-base-turkish-cased\")"
   ]
  },
  {
   "cell_type": "code",
   "execution_count": 110,
   "id": "bf58392f",
   "metadata": {},
   "outputs": [],
   "source": [
    "# Function to get BERT embeddings\n",
    "def get_bert_embedding(text):\n",
    "    inputs = tokenizer(text, return_tensors='pt', truncation=True, padding=True, max_length=512)\n",
    "    outputs = model(**inputs)\n",
    "    cls_embedding = outputs.last_hidden_state[:, 0, :]  # Get the [CLS] token embedding\n",
    "    return cls_embedding.squeeze().detach().numpy()\n",
    "\n",
    "# Precompute BERT embeddings for all documents\n",
    "bert_doc_vecs = np.array([get_bert_embedding(doc) for doc in all_processed_docs])"
   ]
  },
  {
   "cell_type": "code",
   "execution_count": 111,
   "id": "ceafa068",
   "metadata": {},
   "outputs": [],
   "source": [
    "# Function to respond to query\n",
    "def respond(query, n_best=5):\n",
    "    # Expand the query using Word2Vec\n",
    "    expanded_query = expand_query(query)\n",
    "    print(f\"Expanded query: {expanded_query}\\n\")\n",
    "    \n",
    "    # Convert the expanded query to TF-IDF vector\n",
    "    expanded_query_vec = cv.transform([expanded_query])\n",
    "    tf_idf_query = tfidf_transformer.transform(expanded_query_vec)\n",
    "    \n",
    "    # Generate BERT embedding for the original query (not expanded)\n",
    "    bert_query_vec = get_bert_embedding(query)\n",
    "    \n",
    "    # Ensure the shapes are correct for cosine similarity\n",
    "    bert_query_vec = bert_query_vec.reshape(1, -1)\n",
    "    \n",
    "    # Compute cosine similarity for TF-IDF\n",
    "    tfidf_similarities = cosine_similarity(tf_idf_query, W)\n",
    "    \n",
    "    # Compute cosine similarity for BERT\n",
    "    bert_similarities = cosine_similarity(bert_query_vec, bert_doc_vecs)\n",
    "    \n",
    "    # Combine similarities\n",
    "    combined_similarities = (tfidf_similarities + bert_similarities) / 2\n",
    "    \n",
    "    # Rank documents based on the combined similarities\n",
    "    sorted_doc_indices = np.argsort(combined_similarities[0])[::-1]\n",
    "    \n",
    "    # Print the sorted documents and their similarity scores\n",
    "    for idx in sorted_doc_indices[:n_best]:\n",
    "        print(f\"{paragraphs[idx]} with similarity score: {combined_similarities[0][idx]:.4f}\\n\")"
   ]
  },
  {
   "cell_type": "code",
   "execution_count": 112,
   "id": "a5e40a10",
   "metadata": {},
   "outputs": [
    {
     "name": "stdout",
     "output_type": "stream",
     "text": [
      "Expanded query: yapay zeka sağlık suni zekâ zekâ zekanın saglık sağlik\n",
      "\n",
      "Komplocu bunlar 1: Diyelim ki > bir ülkenin sağlık bakanlığı özel bir şirketin geliştirdiği yapay zeka destekli bir sağlık asistanını ve hastanesini akredite olarak tanımış olsun. Bu durumda bu kurum insanlara bir doktor yerine kendi sağlık asistanına tedavi olması gerektiğini ikna etmek için ne gibi değer önerileri sunabilirdi? with similarity score: 0.2007\n",
      "\n",
      "İşte ütopik sağlık şirketimizin asistanına tedavi olmanı için önerilerimiz: 7/24 hızlı müdahale imkanı sağlar. Sürekli olarak en son tıbbi araştırmaları ve bulguları analiz eder, tüm branşların bilgisine sahip olup konsültasyon ihtiyacını ortadan kaldırır. İnsan faktöründen kaynaklanan hata oranını düşürür, büyük veri analizi ve geçmiş vakalardan elde edilen bilgilerle doğru teşhis ve tedavi imkanı sunar. Hastaların geçmiş sağlık verilerini kullanarak kişiselleştirilmiş tedavi planları oluşturur ve maliyetleri düşürerek daha fazla kişiye ulaşılabilir hale getirir. Sağlık personelinin iş yükünü azaltır ve hastaları sürekli olarak bilgilendirir, ayrıca sağlık personeline destek sağlar. Tanı ve tedavi süreçlerini akademik araştırmalara ve akredite kurumların verilerine dayandırarak güvenilir ve bilimsel kararlar sunar. Aynı zamanda ilaç sevmeyenler için tüm ilaç prospektüslerini ve etken maddelerini ezbere bildiğinden alternatif tedavi ve diyet reçeteleri de sunabilir mi dersiniz .. with similarity score: 0.1314\n",
      "\n",
      "Senaryo o ya belki dijital ürün tasarımının yapay zeka ile tasarlandığı, yapay zeka tarafından geliştirilen, içerik pazarlamasına uygun blog yazılı ve görsel içerikleri, onboarding içerikleri, yardım ekranları yine yapay zeka tarafından hazırlanan ironik olsun diye 24 Kasım’da yayınlanacak olan “Yapay Öğretmenim” adlı bir uygulama olacağını düşünelim. Apple Search Ads uzmanı gibi kendi uygulamasının pazarlamasını da nasıl yapması gerektiğini bilen yapay zekamızın bu uygulaması kaç kez indirilir dersiniz? with similarity score: 0.0812\n",
      "\n",
      "Daha uç bir örnek için; Genel cerrah bir arkadaşımla bir apandisit hastasının teşhisi konusunda yaptığımız deneyde, yapay zekanın doktorun gözden kaçırabileceği birçok noktayı atlamayan uzman bir yaklaşım sunduğunu gördük. Önce hastanın şikayetlerini ve temel bilgilerini yapay zekaya ilettik. Yapay zeka, adım adım ihtimalleri elemek için sorular sordu. Örneğin, 24 yaşındaki kadın hastanın adet sancısı ya da yerleşme sancısı çekebileceği ihtimalini değerlendirdi. Daha sonra fiziki muayene için hastaya neler yapması gerektiğini söyledi. Hasta sonucu paylaştı ve yapay zeka %70 oranında apandisitten şüphelendiğini, bunu hangi akademik araştırma ve akredite kurumların verilerine dayandırdığını açıkladı. İhtimali yükseltmek için hangi tetkiklerin yapılması gerektiğini ve bu tetkiklerden gelen sonuçlara göre teşhis sürecini nasıl derinleştirebileceğini belirtti. Korktuk mu? with similarity score: 0.0758\n",
      "\n",
      "Yapay zeka ayrıca öğretmenlerin iş yükünü azaltabilir. Rutin görevleri, sınav değerlendirmeleri ve hatta bazı öğretim faaliyetlerini otomatikleştirerek, öğretmenlerin daha fazla öğrenciye birebir ilgi göstermesini sağlar. Öğretmenler, yapay zekanın sunduğu veriler ve analizlerle, öğrencilerin gelişimini daha yakından takip edebilir ve onların ihtiyaçlarına daha hızlı yanıt verebilir. with similarity score: 0.0735\n",
      "\n"
     ]
    }
   ],
   "source": [
    "query = 'yapay zeka ve sağlık'\n",
    "respond(query)"
   ]
  },
  {
   "cell_type": "code",
   "execution_count": 113,
   "id": "96f962cf",
   "metadata": {},
   "outputs": [
    {
     "name": "stdout",
     "output_type": "stream",
     "text": [
      "Expanded query: risk altındaki meslekler riskler riskleri altında altındadır meslekleri rasyolar\n",
      "\n",
      "Yapay zeka, hayatımıza girdiği günden beri özellikle kendi sektörümde bazı meslek gruplarının yaptığı işleri büyük oranda yapabildiğini izliyorum. Visual designer, concept artist, game artist, illustrator, copywriter, UX designer, UI designer ve daha niceleri…Yapay zekanın neleri değiştirebileceğini ve hangi meslekleri nasıl tehdit ettiğini evdeki koltuğunuzda sorgulamaya hazırsanız başlayalım… with similarity score: 0.0903\n",
      "\n",
      "Sanki ikna olmuş mu gibisiniz? Komplocu bunlar 2: Kanayan yaramız; Adalet Sistemine yapay zeka entegresi güzellemeleri; Sabah akşam mecliste tartışılan anayasa değişikliği oturumlarından anlıyoruz ki değişimine çok ta karşı çıkamayacağımız alanlardan biri adalet sistemi gibi geliyor.. Türkiye’de her yıl ortalama olarak 7 milyon dava açılıyor hakim başına 671 dava düşüyor ve sistemin yavaşlığı mağduriyetleri büyütüyor. Bu bağlamda yapay zekanın yargılama süreçlerine entegre edilmesiyle, süreçlerin hızlanabileceğini ve büyük bir zaman tasarrufu sağlanabileceğini hayal edebiliriz. with similarity score: 0.0211\n",
      "\n",
      "Daha uç bir örnek için; Genel cerrah bir arkadaşımla bir apandisit hastasının teşhisi konusunda yaptığımız deneyde, yapay zekanın doktorun gözden kaçırabileceği birçok noktayı atlamayan uzman bir yaklaşım sunduğunu gördük. Önce hastanın şikayetlerini ve temel bilgilerini yapay zekaya ilettik. Yapay zeka, adım adım ihtimalleri elemek için sorular sordu. Örneğin, 24 yaşındaki kadın hastanın adet sancısı ya da yerleşme sancısı çekebileceği ihtimalini değerlendirdi. Daha sonra fiziki muayene için hastaya neler yapması gerektiğini söyledi. Hasta sonucu paylaştı ve yapay zeka %70 oranında apandisitten şüphelendiğini, bunu hangi akademik araştırma ve akredite kurumların verilerine dayandırdığını açıkladı. İhtimali yükseltmek için hangi tetkiklerin yapılması gerektiğini ve bu tetkiklerden gelen sonuçlara göre teşhis sürecini nasıl derinleştirebileceğini belirtti. Korktuk mu? with similarity score: 0.0196\n",
      "\n",
      "Bunların yanı sıra, yapay zeka destekli öğrenme platformları, dünyanın her yerinden öğrencilerin erişimine açık olabilir. Bu, eğitimde fırsat eşitliğini artırır ve bilgiye erişim konusunda coğrafi engelleri ortadan kaldırır. Özellikle dezavantajlı bölgelerdeki öğrenciler için büyük bir fırsat olabilir. with similarity score: 0.0174\n",
      "\n",
      "Yapay zeka ayrıca öğretmenlerin iş yükünü azaltabilir. Rutin görevleri, sınav değerlendirmeleri ve hatta bazı öğretim faaliyetlerini otomatikleştirerek, öğretmenlerin daha fazla öğrenciye birebir ilgi göstermesini sağlar. Öğretmenler, yapay zekanın sunduğu veriler ve analizlerle, öğrencilerin gelişimini daha yakından takip edebilir ve onların ihtiyaçlarına daha hızlı yanıt verebilir. with similarity score: 0.0148\n",
      "\n"
     ]
    }
   ],
   "source": [
    "query = 'risk altındaki meslekler'\n",
    "respond(query)"
   ]
  },
  {
   "cell_type": "code",
   "execution_count": 114,
   "id": "7b9912e3",
   "metadata": {
    "scrolled": false
   },
   "outputs": [
    {
     "name": "stdout",
     "output_type": "stream",
     "text": [
      "Expanded query: riskli meslek masraflı zahmetli mesleki hemşirelik\n",
      "\n",
      "Yapay zeka, hayatımıza girdiği günden beri özellikle kendi sektörümde bazı meslek gruplarının yaptığı işleri büyük oranda yapabildiğini izliyorum. Visual designer, concept artist, game artist, illustrator, copywriter, UX designer, UI designer ve daha niceleri…Yapay zekanın neleri değiştirebileceğini ve hangi meslekleri nasıl tehdit ettiğini evdeki koltuğunuzda sorgulamaya hazırsanız başlayalım… with similarity score: 0.0584\n",
      "\n",
      "Daha uç bir örnek için; Genel cerrah bir arkadaşımla bir apandisit hastasının teşhisi konusunda yaptığımız deneyde, yapay zekanın doktorun gözden kaçırabileceği birçok noktayı atlamayan uzman bir yaklaşım sunduğunu gördük. Önce hastanın şikayetlerini ve temel bilgilerini yapay zekaya ilettik. Yapay zeka, adım adım ihtimalleri elemek için sorular sordu. Örneğin, 24 yaşındaki kadın hastanın adet sancısı ya da yerleşme sancısı çekebileceği ihtimalini değerlendirdi. Daha sonra fiziki muayene için hastaya neler yapması gerektiğini söyledi. Hasta sonucu paylaştı ve yapay zeka %70 oranında apandisitten şüphelendiğini, bunu hangi akademik araştırma ve akredite kurumların verilerine dayandırdığını açıkladı. İhtimali yükseltmek için hangi tetkiklerin yapılması gerektiğini ve bu tetkiklerden gelen sonuçlara göre teşhis sürecini nasıl derinleştirebileceğini belirtti. Korktuk mu? with similarity score: -0.0083\n",
      "\n",
      "Sanki ikna olmuş mu gibisiniz? Komplocu bunlar 2: Kanayan yaramız; Adalet Sistemine yapay zeka entegresi güzellemeleri; Sabah akşam mecliste tartışılan anayasa değişikliği oturumlarından anlıyoruz ki değişimine çok ta karşı çıkamayacağımız alanlardan biri adalet sistemi gibi geliyor.. Türkiye’de her yıl ortalama olarak 7 milyon dava açılıyor hakim başına 671 dava düşüyor ve sistemin yavaşlığı mağduriyetleri büyütüyor. Bu bağlamda yapay zekanın yargılama süreçlerine entegre edilmesiyle, süreçlerin hızlanabileceğini ve büyük bir zaman tasarrufu sağlanabileceğini hayal edebiliriz. with similarity score: -0.0115\n",
      "\n",
      "Bunların yanı sıra, yapay zeka destekli öğrenme platformları, dünyanın her yerinden öğrencilerin erişimine açık olabilir. Bu, eğitimde fırsat eşitliğini artırır ve bilgiye erişim konusunda coğrafi engelleri ortadan kaldırır. Özellikle dezavantajlı bölgelerdeki öğrenciler için büyük bir fırsat olabilir. with similarity score: -0.0152\n",
      "\n",
      "İşte ütopik sağlık şirketimizin asistanına tedavi olmanı için önerilerimiz: 7/24 hızlı müdahale imkanı sağlar. Sürekli olarak en son tıbbi araştırmaları ve bulguları analiz eder, tüm branşların bilgisine sahip olup konsültasyon ihtiyacını ortadan kaldırır. İnsan faktöründen kaynaklanan hata oranını düşürür, büyük veri analizi ve geçmiş vakalardan elde edilen bilgilerle doğru teşhis ve tedavi imkanı sunar. Hastaların geçmiş sağlık verilerini kullanarak kişiselleştirilmiş tedavi planları oluşturur ve maliyetleri düşürerek daha fazla kişiye ulaşılabilir hale getirir. Sağlık personelinin iş yükünü azaltır ve hastaları sürekli olarak bilgilendirir, ayrıca sağlık personeline destek sağlar. Tanı ve tedavi süreçlerini akademik araştırmalara ve akredite kurumların verilerine dayandırarak güvenilir ve bilimsel kararlar sunar. Aynı zamanda ilaç sevmeyenler için tüm ilaç prospektüslerini ve etken maddelerini ezbere bildiğinden alternatif tedavi ve diyet reçeteleri de sunabilir mi dersiniz .. with similarity score: -0.0171\n",
      "\n"
     ]
    }
   ],
   "source": [
    "query = 'riskli meslek'\n",
    "respond(query)"
   ]
  },
  {
   "cell_type": "code",
   "execution_count": 115,
   "id": "2f614b3a",
   "metadata": {},
   "outputs": [
    {
     "name": "stdout",
     "output_type": "stream",
     "text": [
      "Expanded query: ürkünç senaryo Warrenton opelousas senaryoyu senaryosu\n",
      "\n",
      "Senaryo o ya belki dijital ürün tasarımının yapay zeka ile tasarlandığı, yapay zeka tarafından geliştirilen, içerik pazarlamasına uygun blog yazılı ve görsel içerikleri, onboarding içerikleri, yardım ekranları yine yapay zeka tarafından hazırlanan ironik olsun diye 24 Kasım’da yayınlanacak olan “Yapay Öğretmenim” adlı bir uygulama olacağını düşünelim. Apple Search Ads uzmanı gibi kendi uygulamasının pazarlamasını da nasıl yapması gerektiğini bilen yapay zekamızın bu uygulaması kaç kez indirilir dersiniz? with similarity score: 0.0388\n",
      "\n",
      "Daha uç bir örnek için; Genel cerrah bir arkadaşımla bir apandisit hastasının teşhisi konusunda yaptığımız deneyde, yapay zekanın doktorun gözden kaçırabileceği birçok noktayı atlamayan uzman bir yaklaşım sunduğunu gördük. Önce hastanın şikayetlerini ve temel bilgilerini yapay zekaya ilettik. Yapay zeka, adım adım ihtimalleri elemek için sorular sordu. Örneğin, 24 yaşındaki kadın hastanın adet sancısı ya da yerleşme sancısı çekebileceği ihtimalini değerlendirdi. Daha sonra fiziki muayene için hastaya neler yapması gerektiğini söyledi. Hasta sonucu paylaştı ve yapay zeka %70 oranında apandisitten şüphelendiğini, bunu hangi akademik araştırma ve akredite kurumların verilerine dayandırdığını açıkladı. İhtimali yükseltmek için hangi tetkiklerin yapılması gerektiğini ve bu tetkiklerden gelen sonuçlara göre teşhis sürecini nasıl derinleştirebileceğini belirtti. Korktuk mu? with similarity score: -0.0179\n",
      "\n",
      "Sanki ikna olmuş mu gibisiniz? Komplocu bunlar 2: Kanayan yaramız; Adalet Sistemine yapay zeka entegresi güzellemeleri; Sabah akşam mecliste tartışılan anayasa değişikliği oturumlarından anlıyoruz ki değişimine çok ta karşı çıkamayacağımız alanlardan biri adalet sistemi gibi geliyor.. Türkiye’de her yıl ortalama olarak 7 milyon dava açılıyor hakim başına 671 dava düşüyor ve sistemin yavaşlığı mağduriyetleri büyütüyor. Bu bağlamda yapay zekanın yargılama süreçlerine entegre edilmesiyle, süreçlerin hızlanabileceğini ve büyük bir zaman tasarrufu sağlanabileceğini hayal edebiliriz. with similarity score: -0.0210\n",
      "\n",
      "Yapay zeka, hayatımıza girdiği günden beri özellikle kendi sektörümde bazı meslek gruplarının yaptığı işleri büyük oranda yapabildiğini izliyorum. Visual designer, concept artist, game artist, illustrator, copywriter, UX designer, UI designer ve daha niceleri…Yapay zekanın neleri değiştirebileceğini ve hangi meslekleri nasıl tehdit ettiğini evdeki koltuğunuzda sorgulamaya hazırsanız başlayalım… with similarity score: -0.0244\n",
      "\n",
      "İşte ütopik sağlık şirketimizin asistanına tedavi olmanı için önerilerimiz: 7/24 hızlı müdahale imkanı sağlar. Sürekli olarak en son tıbbi araştırmaları ve bulguları analiz eder, tüm branşların bilgisine sahip olup konsültasyon ihtiyacını ortadan kaldırır. İnsan faktöründen kaynaklanan hata oranını düşürür, büyük veri analizi ve geçmiş vakalardan elde edilen bilgilerle doğru teşhis ve tedavi imkanı sunar. Hastaların geçmiş sağlık verilerini kullanarak kişiselleştirilmiş tedavi planları oluşturur ve maliyetleri düşürerek daha fazla kişiye ulaşılabilir hale getirir. Sağlık personelinin iş yükünü azaltır ve hastaları sürekli olarak bilgilendirir, ayrıca sağlık personeline destek sağlar. Tanı ve tedavi süreçlerini akademik araştırmalara ve akredite kurumların verilerine dayandırarak güvenilir ve bilimsel kararlar sunar. Aynı zamanda ilaç sevmeyenler için tüm ilaç prospektüslerini ve etken maddelerini ezbere bildiğinden alternatif tedavi ve diyet reçeteleri de sunabilir mi dersiniz .. with similarity score: -0.0248\n",
      "\n"
     ]
    }
   ],
   "source": [
    "query = 'ürkünç senaryo'\n",
    "respond(query)"
   ]
  },
  {
   "cell_type": "code",
   "execution_count": null,
   "id": "d075a6e6",
   "metadata": {},
   "outputs": [],
   "source": []
  }
 ],
 "metadata": {
  "kernelspec": {
   "display_name": "Python 3 (ipykernel)",
   "language": "python",
   "name": "python3"
  },
  "language_info": {
   "codemirror_mode": {
    "name": "ipython",
    "version": 3
   },
   "file_extension": ".py",
   "mimetype": "text/x-python",
   "name": "python",
   "nbconvert_exporter": "python",
   "pygments_lexer": "ipython3",
   "version": "3.11.5"
  }
 },
 "nbformat": 4,
 "nbformat_minor": 5
}
